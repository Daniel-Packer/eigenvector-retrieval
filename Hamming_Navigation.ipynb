{
 "cells": [
  {
   "cell_type": "code",
   "execution_count": 58,
   "id": "2864f1f6-674d-4103-ab07-a505fb9df3de",
   "metadata": {},
   "outputs": [
    {
     "name": "stdout",
     "output_type": "stream",
     "text": [
      "The autoreload extension is already loaded. To reload it, use:\n",
      "  %reload_ext autoreload\n"
     ]
    }
   ],
   "source": [
    "%load_ext autoreload\n",
    "%autoreload 2\n",
    "from AlgorithmScripts import Big_matrix, generate_problem, basis\n",
    "from tqdm.notebook import tqdm\n",
    "import numpy as np\n",
    "import scipy as sp\n",
    "\n",
    "import matplotlib.pyplot as plt\n",
    "import seaborn as sns\n",
    "\n",
    "rng = np.random.default_rng(seed=1234)"
   ]
  },
  {
   "cell_type": "code",
   "execution_count": 98,
   "id": "a752cb9b-ba65-45ee-90ad-1017918515e5",
   "metadata": {},
   "outputs": [],
   "source": [
    "d = 4\n",
    "steps = 10_000\n",
    "\n",
    "M, ell, v_abs, eps = generate_problem(d, 0)\n",
    "\n",
    "def get_row(i):\n",
    "    return (M.get_row(i) - basis(d, i) * ell) * v_abs / v_abs[i]\n",
    "\n",
    "def get_weights(M):\n",
    "    d = len(get_row(0))\n",
    "    p = np.array([np.linalg.norm(get_row(i))**2 for i in range(d)] )\n",
    "    return p / np.sum(p)"
   ]
  },
  {
   "cell_type": "code",
   "execution_count": 99,
   "id": "945b4e3f-2821-41f4-8a8f-4e5252b19ef9",
   "metadata": {},
   "outputs": [],
   "source": [
    "v = np.ones(d)\n",
    "p = get_weights(M)\n",
    "\n",
    "for s in range(steps):\n",
    "    i = rng.choice(d)\n",
    "    # w = get_row(i)\n",
    "    # v = v - np.dot(v, w) * w / (np.linalg.norm(w) ** 2)\n",
    "    step_dir = - get_row(i)\n",
    "    if np.dot(step_dir, v) >= 1e-8:\n",
    "        switch = sp.special.softmax(-step_dir * v)\n",
    "        switch_ind = rng.choice(d, p=switch)\n",
    "        v[switch_ind] = -v[switch_ind]\n"
   ]
  },
  {
   "cell_type": "code",
   "execution_count": 100,
   "id": "613e80f3-7408-4b1d-a41c-8d0470c48b5e",
   "metadata": {},
   "outputs": [
    {
     "data": {
      "text/plain": [
       "array([1., 1., 1., 1.])"
      ]
     },
     "execution_count": 100,
     "metadata": {},
     "output_type": "execute_result"
    }
   ],
   "source": [
    "v*eps"
   ]
  },
  {
   "cell_type": "code",
   "execution_count": 81,
   "id": "07f02116-fd99-4fe6-b8be-e396b0a01e17",
   "metadata": {},
   "outputs": [
    {
     "data": {
      "text/plain": [
       "-3.552713678800501e-15"
      ]
     },
     "execution_count": 81,
     "metadata": {},
     "output_type": "execute_result"
    }
   ],
   "source": [
    "np.dot(get_row(4), eps)"
   ]
  }
 ],
 "metadata": {
  "kernelspec": {
   "display_name": "Python 3 (ipykernel)",
   "language": "python",
   "name": "python3"
  },
  "language_info": {
   "codemirror_mode": {
    "name": "ipython",
    "version": 3
   },
   "file_extension": ".py",
   "mimetype": "text/x-python",
   "name": "python",
   "nbconvert_exporter": "python",
   "pygments_lexer": "ipython3",
   "version": "3.10.4"
  }
 },
 "nbformat": 4,
 "nbformat_minor": 5
}
