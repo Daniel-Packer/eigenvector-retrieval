{
 "cells": [
  {
   "cell_type": "code",
   "execution_count": null,
   "id": "3a5e9562-7a93-40c6-91d4-ef42392c9cb8",
   "metadata": {},
   "outputs": [],
   "source": [
    "TEST"
   ]
  }
 ],
 "metadata": {
  "kernelspec": {
   "display_name": "Python 3 (ipykernel)",
   "language": "python",
   "name": "python3"
  },
  "language_info": {
   "codemirror_mode": {
    "name": "ipython",
    "version": 3
   },
   "file_extension": ".py",
   "mimetype": "text/x-python",
   "name": "python",
   "nbconvert_exporter": "python",
   "pygments_lexer": "ipython3",
   "version": "3.10.8"
  }
 },
 "nbformat": 4,
 "nbformat_minor": 5
}
