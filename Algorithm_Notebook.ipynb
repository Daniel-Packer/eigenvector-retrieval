{
 "cells": [
  {
   "cell_type": "code",
   "execution_count": 95,
   "metadata": {
    "id": "0IA-KTKzhSZ_"
   },
   "outputs": [],
   "source": [
    "# This is basically all you need for numerics:\n",
    "import numpy as np\n",
    "import scipy as sp\n",
    "\n",
    "# Initializing a random seed:\n",
    "rng = np.random.default_rng(seed=1234)\n",
    "\n",
    "# These are some plotting packages:\n",
    "## Basic plotting\n",
    "import matplotlib.pyplot as plt\n",
    "## Intermediate plotting\n",
    "import seaborn as sns\n",
    "\n",
    "# This is kinda nice to have\n",
    "from tqdm.notebook import tqdm\n",
    "\n",
    "# Putting some of the set-up in a different file:\n",
    "from AlgorithmScripts import Big_matrix"
   ]
  },
  {
   "cell_type": "code",
   "execution_count": 96,
   "metadata": {
    "id": "hSxCND9V2jKC"
   },
   "outputs": [
    {
     "data": {
      "text/plain": [
       "'\\nRounds the output vector to match the magnitude assumptions.\\nI made this as hard as possible the first time:\\n# if np.abs((v[i] - eigenvec_abs[i])) < np.abs((v[i] + eigenvec_abs[i])):\\n#   v[i] = eigenvec_abs[i]\\n# else:\\n#   v[i] = -eigenvec_abs[i]\\n'"
      ]
     },
     "execution_count": 96,
     "metadata": {},
     "output_type": "execute_result"
    }
   ],
   "source": [
    "def round(v, eigenvec_abs, conditioning):\n",
    "\n",
    "    if (conditioning):\n",
    "        return np.sign(v)\n",
    "  \n",
    "    v = np.sign(v) * eigenvec_abs\n",
    "    \n",
    "    return v\n",
    " \n",
    "\"\"\"\n",
    "Rounds the output vector to match the magnitude assumptions.\n",
    "I made this as hard as possible the first time:\n",
    "# if np.abs((v[i] - eigenvec_abs[i])) < np.abs((v[i] + eigenvec_abs[i])):\n",
    "#   v[i] = eigenvec_abs[i]\n",
    "# else:\n",
    "#   v[i] = -eigenvec_abs[i]\n",
    "\"\"\""
   ]
  },
  {
   "cell_type": "code",
   "execution_count": 97,
   "metadata": {
    "id": "jXei0g-Cvefx"
   },
   "outputs": [],
   "source": [
    "# This is one way to generate a problem, Idk if its the best way to make these \n",
    "# problems (our choice of how to do this matters)\n",
    "def generate_problem(d: int, k: int):\n",
    "    \"\"\"\n",
    "    Returns a eigenvector phase retrieval problem:\n",
    "    - a Big_matrix instance\n",
    "    - an eigenvalue of the instance\n",
    "    - the absolute value of the entries of the eigenvector of that eigenvalue\n",
    "    \"\"\"\n",
    "    #d is size of matrix, k is which eigenvector we want from the array of eigenvectors\n",
    "    #in our model, this is harder when k is closer to d/2, k = 0 or k = d is easiest\n",
    "    assert k < d\n",
    "    #not <= bc of 0 indexing\n",
    "\n",
    "    A = rng.normal(size=(d, d))\n",
    "    #A[0,0] = 50\n",
    "    S = A + A.T\n",
    "\n",
    "    big_matrix = Big_matrix(S)\n",
    "    eigenvalues, eigenvectors = np.linalg.eig(S)\n",
    "    idx = np.argsort(eigenvalues)\n",
    "    k = idx[k]\n",
    "    v_abs = np.abs(eigenvectors[:, k])\n",
    "    ell = eigenvalues[k]\n",
    "    epsilon = np.sign(eigenvectors[:, k])\n",
    "\n",
    "    B = S - ell * np.eye(d)\n",
    "\n",
    "    v_init = rng.normal(size=d)\n",
    "\n",
    "    return v_init, big_matrix, ell, v_abs, epsilon\n",
    "\n",
    "\n",
    "\n"
   ]
  },
  {
   "cell_type": "code",
   "execution_count": 98,
   "metadata": {
    "id": "5RR_1GRoyq75"
   },
   "outputs": [],
   "source": [
    "def project(v, w):\n",
    "    \"\"\"\n",
    "    This function should return the projection of `v` onto the span of `w`.\n",
    "    \"\"\"\n",
    "    proj_w_v = np.dot(v, w)/(np.dot(w, w)) * w\n",
    "    \n",
    "    return proj_w_v"
   ]
  },
  {
   "cell_type": "code",
   "execution_count": 99,
   "metadata": {
    "id": "gfry3PavzoGc"
   },
   "outputs": [],
   "source": [
    "def project_onto_orthogonal_subspace(v, w, proj_strength):\n",
    "    proj = v - project(v, w)\n",
    "    \n",
    "    final = v*(1-proj_strength) + proj*(proj_strength)\n",
    "    \n",
    "    return final"
   ]
  },
  {
   "cell_type": "code",
   "execution_count": 100,
   "metadata": {
    "id": "3uzQWbzp1JVR"
   },
   "outputs": [],
   "source": [
    "def K_step(eigenvec_abs, v, ell, M, i, conditioning, proj_strength):\n",
    "    \"\"\"\n",
    "    Returns the projection of `v` onto the orthogonal space of the the `i`th row\n",
    "    of B (or C if conditioning is on)\n",
    "    ell (l) is the eigenvalue\n",
    "    \"\"\"\n",
    "    d = len(v)\n",
    "    #i = i%d (old way)\n",
    "    i = np.random.choice(d)\n",
    "    #picks a random number from a 1D array created like np.arange(d)\n",
    "    w = M.get_row(i)-(ell*((np.eye(d))[i, :]))\n",
    "\n",
    "    if conditioning: \n",
    "        B_row_i = w\n",
    "        B_row_i = w * eigenvec_abs / eigenvec_abs[i]\n",
    "        w = B_row_i\n",
    "\n",
    "\n",
    "    v = project_onto_orthogonal_subspace(v, w, proj_strength)\n",
    "\n",
    "    return v"
   ]
  },
  {
   "cell_type": "code",
   "execution_count": 101,
   "metadata": {
    "id": "yI6WFBDB1vT6"
   },
   "outputs": [],
   "source": [
    "def K_algorithm(v_init, M, ell, eigenvec_abs, epsilon, n_iter, rounding_freq, conditioning, random_rounding, proj_strength):\n",
    "    \"\"\"\n",
    "    Applies the K. algorithm to the initial vector `v_init` with the `Big_matrix`\n",
    "    for `n_iter` steps.\n",
    "    \"\"\"\n",
    "    v = v_init\n",
    "    #tqdm is a progress bar\n",
    "    #np.arange basically range creates list of 0 - 9 (if n_iter is 10)\n",
    "\n",
    "    for i in np.arange(n_iter):\n",
    "        v = K_step(eigenvec_abs, v, ell, M, i, conditioning, proj_strength)\n",
    "        #we check if we're finished every 10 steps\n",
    "        if i%10 == 0:\n",
    "            if score(v, epsilon) == 1.0: \n",
    "                return v, i\n",
    "        #-1 turns off rounding altogether\n",
    "        if (random_rounding):\n",
    "            #round randomly at a certain freq\n",
    "            if (rounding_freq >= 0):\n",
    "                #check if rounding is even on\n",
    "                if (rng.random() < rounding_freq):\n",
    "                    v = round(v, eigenvec_abs, conditioning)  \n",
    "        else:\n",
    "            #round if i%(rounding_freq * n_iter)==0 \n",
    "            #this has an issue. 0.1 should be every 10 steps regardless of n_iter. \n",
    "            #but currently if n_iter is 1000, we are rounding every 100 steps\n",
    "            #I changed to i%(1/rounding_freq) so 0.1 --> 10, 0.5 --> 2, etc\n",
    "            if (rounding_freq > 0): \n",
    "                if (i%(int(1 / rounding_freq)) == 0):\n",
    "                    v = round(v, eigenvec_abs, conditioning) \n",
    "    v = round(v, eigenvec_abs, conditioning)    \n",
    "\n",
    "    return v, n_iter\n",
    "\n",
    "\n",
    "\n",
    "\n"
   ]
  },
  {
   "cell_type": "code",
   "execution_count": 102,
   "metadata": {
    "id": "svPJ6634c2EG"
   },
   "outputs": [],
   "source": [
    "def score(v_current, epsilon):\n",
    "    size = len(v_current)\n",
    "    #why does this break it sometimes?\n",
    "    assert size == len(epsilon)\n",
    "    test_epsilon = np.sign(v_current)\n",
    "    score = 0\n",
    "    for i in range(size):\n",
    "        if test_epsilon[i] == epsilon[i]:\n",
    "            score += 1\n",
    "    if score < (size / 2):\n",
    "        score = size - score\n",
    "    return score / size\n"
   ]
  },
  {
   "cell_type": "markdown",
   "metadata": {
    "id": "5Iro1G79eQuw"
   },
   "source": [
    "^^^THEIR ALGORITHM(ISH)^^^"
   ]
  },
  {
   "cell_type": "code",
   "execution_count": 103,
   "metadata": {
    "id": "ve_0us5iCHwx"
   },
   "outputs": [],
   "source": [
    "def big_test(d, k, n_iter, x, rounding_freq, conditioning, random_rounding, proj_strength):\n",
    "\n",
    "  sum = 0\n",
    "  unfinished = 0\n",
    "  steps_taken_list = []\n",
    "  #run x amount of times\n",
    "  for i in tqdm(range(x)):\n",
    "    v_init, M, ell, eigenvec_abs, epsilon = generate_problem(d, k)\n",
    "    v, steps_taken = K_algorithm(v_init, M, ell, eigenvec_abs, epsilon, n_iter, rounding_freq, conditioning, random_rounding, proj_strength)\n",
    "    steps_taken_list.append(steps_taken)\n",
    "    if (steps_taken==n_iter):\n",
    "      unfinished += 1\n",
    "      #print unfinished runs\n",
    "      #print(v, score(v, epsilon), stepsTaken)\n",
    "  return steps_taken_list, unfinished"
   ]
  },
  {
   "cell_type": "markdown",
   "metadata": {
    "id": "vAcPPHr5cjfn"
   },
   "source": [
    "#Run One Big Test w/ Graph"
   ]
  },
  {
   "cell_type": "code",
   "execution_count": 119,
   "metadata": {
    "colab": {
     "base_uri": "https://localhost:8080/",
     "height": 480
    },
    "id": "E40k9Hcn3qhj",
    "outputId": "d32343cd-3d91-4f80-e282-888650380ef8"
   },
   "outputs": [
    {
     "data": {
      "application/vnd.jupyter.widget-view+json": {
       "model_id": "96a6938cb2a942ac9d32c8668bf4cb76",
       "version_major": 2,
       "version_minor": 0
      },
      "text/plain": [
       "  0%|          | 0/100 [00:00<?, ?it/s]"
      ]
     },
     "metadata": {},
     "output_type": "display_data"
    },
    {
     "name": "stdout",
     "output_type": "stream",
     "text": [
      "avg steps 1721.7\n",
      "unfinished 11.0 %\n"
     ]
    },
    {
     "data": {
      "text/plain": [
       "<AxesSubplot: ylabel='Count'>"
      ]
     },
     "execution_count": 119,
     "metadata": {},
     "output_type": "execute_result"
    },
    {
     "data": {
      "image/png": "[encoded data removed]",
      "text/plain": [
       "<Figure size 1500x700 with 2 Axes>"
      ]
     },
     "metadata": {},
     "output_type": "display_data"
    }
   ],
   "source": [
    "d, k = 10, 9\n",
    "n_iter = 10000\n",
    "x = 100\n",
    "#run x amount of times\n",
    "conditioning = False\n",
    "random_rounding = False\n",
    "rounding_freq = 0.1\n",
    "proj_strength = 1\n",
    "steps_taken_list, num_unfinished = big_test(d, k, n_iter, x, rounding_freq, conditioning, random_rounding, proj_strength)\n",
    "print(\"avg steps\", np.mean(steps_taken_list))\n",
    "print(\"unfinished\", num_unfinished/x*100, \"%\")\n",
    "\n",
    "fig, ax = plt.subplots(1, 2, figsize=(15,7))\n",
    "#make a 1 by 2 array of axis, put them in the fig object (of size 10 x 5 inches? pixels? )\n",
    "#ax is the list of axis\n",
    "\n",
    "#rounding is what gets you stuck in loops!!\n",
    "\n",
    "sns.kdeplot(x=steps_taken_list, ax=ax[0])\n",
    "sns.histplot(x=steps_taken_list, ax=ax[1])\n",
    "\n",
    "\n",
    " \n",
    "\n"
   ]
  },
  {
   "cell_type": "code",
   "execution_count": null,
   "metadata": {
    "colab": {
     "base_uri": "https://localhost:8080/"
    },
    "id": "Ie1ejBvzK1pw",
    "outputId": "7641e5d6-90da-4709-c300-8bdfafb641c8"
   },
   "outputs": [
    {
     "name": "stdout",
     "output_type": "stream",
     "text": [
      "freq -1\n"
     ]
    },
    {
     "data": {
      "application/vnd.jupyter.widget-view+json": {
       "model_id": "37e929af7d3f49c9834a18e0a066daef",
       "version_major": 2,
       "version_minor": 0
      },
      "text/plain": [
       "  0%|          | 0/100 [00:00<?, ?it/s]"
      ]
     },
     "metadata": {},
     "output_type": "display_data"
    },
    {
     "name": "stdout",
     "output_type": "stream",
     "text": [
      "avg steps 714.7\n",
      "unfinished 1.0 %\n",
      "WITH CONDITIONING\n"
     ]
    },
    {
     "data": {
      "application/vnd.jupyter.widget-view+json": {
       "model_id": "85d6fbee137e4d4a819941530df66040",
       "version_major": 2,
       "version_minor": 0
      },
      "text/plain": [
       "  0%|          | 0/100 [00:00<?, ?it/s]"
      ]
     },
     "metadata": {},
     "output_type": "display_data"
    },
    {
     "name": "stdout",
     "output_type": "stream",
     "text": [
      "avg steps 2669.0\n",
      "unfinished 18.0 %\n",
      "\n",
      "freq 0.1\n"
     ]
    },
    {
     "data": {
      "application/vnd.jupyter.widget-view+json": {
       "model_id": "d5e44fb57f834a0c8ca5d26b77ce9a80",
       "version_major": 2,
       "version_minor": 0
      },
      "text/plain": [
       "  0%|          | 0/100 [00:00<?, ?it/s]"
      ]
     },
     "metadata": {},
     "output_type": "display_data"
    },
    {
     "name": "stdout",
     "output_type": "stream",
     "text": [
      "avg steps 1441.2\n",
      "unfinished 12.0 %\n",
      "WITH CONDITIONING\n"
     ]
    },
    {
     "data": {
      "application/vnd.jupyter.widget-view+json": {
       "model_id": "c8383a10808844a395bf6f9582eaeeb6",
       "version_major": 2,
       "version_minor": 0
      },
      "text/plain": [
       "  0%|          | 0/100 [00:00<?, ?it/s]"
      ]
     },
     "metadata": {},
     "output_type": "display_data"
    }
   ],
   "source": [
    "#RUN A BUNCH OF BIG TESTS DIFF ROUNDING FREQ\n",
    "d, k = 10, 9\n",
    "n_iter = 10000\n",
    "x = 100\n",
    "#run x amount of times\n",
    "conditioning = False\n",
    "random_rounding = False\n",
    "freq_to_test = [-1, 0.1, 0.2]\n",
    "proj_strength = 1\n",
    "\n",
    "\n",
    "for i in range(len(freq_to_test)):\n",
    "    print(\"freq\", freq_to_test[i])\n",
    "    steps_taken_list, num_unfinished = big_test(d, k, n_iter, x, freq_to_test[i], False, random_rounding, proj_strength)\n",
    "    print(\"avg steps\", np.mean(steps_taken_list))\n",
    "    print(\"unfinished\", num_unfinished/x*100, \"%\")\n",
    "    print(\"WITH CONDITIONING\")\n",
    "    steps_taken_list, num_unfinished = big_test(d, k, n_iter, x, freq_to_test[i], True, random_rounding, proj_strength)\n",
    "    print(\"avg steps\", np.mean(steps_taken_list))\n",
    "    print(\"unfinished\", num_unfinished/x*100, \"%\")\n",
    "    print(\"\")\n"
   ]
  },
  {
   "cell_type": "markdown",
   "metadata": {
    "id": "GwdseIZQnmw0"
   },
   "source": [
    "#QUESTIONS:\n",
    "CONDITIONING???\n",
    "\n",
    "\n",
    "  i = np.random.choice(d) -  picks a random number from a 1D array created like np.arange(d)?\n",
    "\n",
    "#THINGS TO IMPLEMENT\n",
    "\n",
    "making rounding a probability instead of modulo\n",
    "\n",
    "randomness in general helps us get stuck in a loop (for the runs that just don't finish)\n",
    "\n",
    "\n",
    "\n",
    "\n",
    "#IDEAS:\n",
    "Matrix Conditioning\n",
    "\n",
    "Adding noise per vector projection \n",
    "\n",
    "Rounding freq\n",
    "  - making it a probability instead of %\n",
    "\n",
    "Normalize vectors on each step\n",
    "\n",
    "Adaptive rounding?\n",
    "  - if you've moved a small amount, probability to round is smaller\n",
    "     - measure distance projected norm of distance between new and old vector\n",
    "  - we only round if it brings us to a novel sign vector\n",
    "Projecting somewhere else onto the orthogonal subspace instead of the shortest possible path\n",
    "\n"
   ]
  },
  {
   "cell_type": "code",
   "execution_count": 12,
   "metadata": {
    "id": "siOwwZ0ieiWh"
   },
   "outputs": [
    {
     "data": {
      "text/plain": [
       "''"
      ]
     },
     "execution_count": 12,
     "metadata": {},
     "output_type": "execute_result"
    }
   ],
   "source": [
    "\n",
    "\"\""
   ]
  },
  {
   "cell_type": "code",
   "execution_count": null,
   "metadata": {
    "id": "sbNWtWDd9rjL"
   },
   "outputs": [],
   "source": []
  }
 ],
 "metadata": {
  "colab": {
   "provenance": []
  },
  "kernelspec": {
   "display_name": "Python 3 (ipykernel)",
   "language": "python",
   "name": "python3"
  },
  "language_info": {
   "codemirror_mode": {
    "name": "ipython",
    "version": 3
   },
   "file_extension": ".py",
   "mimetype": "text/x-python",
   "name": "python",
   "nbconvert_exporter": "python",
   "pygments_lexer": "ipython3",
   "version": "3.10.8"
  }
 },
 "nbformat": 4,
 "nbformat_minor": 4
}
